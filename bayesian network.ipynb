{
 "cells": [
  {
   "cell_type": "code",
   "execution_count": 9,
   "id": "676235bf",
   "metadata": {
    "scrolled": false
   },
   "outputs": [
    {
     "name": "stdout",
     "output_type": "stream",
     "text": [
      "Collecting pgmpy\n",
      "  Obtaining dependency information for pgmpy from https://files.pythonhosted.org/packages/eb/9a/2fcb6fdfd998a016cef29ca3eab30b98b6c232b6e9a0444df07f0ad47f8d/pgmpy-0.1.24-py3-none-any.whl.metadata\n",
      "  Downloading pgmpy-0.1.24-py3-none-any.whl.metadata (6.3 kB)\n",
      "Requirement already satisfied: networkx in ./anaconda3/lib/python3.10/site-packages (from pgmpy) (2.8.4)\n",
      "Requirement already satisfied: numpy in ./anaconda3/lib/python3.10/site-packages (from pgmpy) (1.23.5)\n",
      "Requirement already satisfied: scipy in ./anaconda3/lib/python3.10/site-packages (from pgmpy) (1.10.0)\n",
      "Requirement already satisfied: scikit-learn in ./anaconda3/lib/python3.10/site-packages (from pgmpy) (1.2.1)\n",
      "Requirement already satisfied: pandas in ./anaconda3/lib/python3.10/site-packages (from pgmpy) (1.5.3)\n",
      "Requirement already satisfied: pyparsing in ./anaconda3/lib/python3.10/site-packages (from pgmpy) (3.0.9)\n",
      "Requirement already satisfied: torch in ./anaconda3/lib/python3.10/site-packages (from pgmpy) (2.1.0)\n",
      "Requirement already satisfied: statsmodels in ./anaconda3/lib/python3.10/site-packages (from pgmpy) (0.13.5)\n",
      "Requirement already satisfied: tqdm in ./anaconda3/lib/python3.10/site-packages (from pgmpy) (4.64.1)\n",
      "Requirement already satisfied: joblib in ./anaconda3/lib/python3.10/site-packages (from pgmpy) (1.1.1)\n",
      "Requirement already satisfied: opt-einsum in ./anaconda3/lib/python3.10/site-packages (from pgmpy) (3.3.0)\n",
      "Requirement already satisfied: python-dateutil>=2.8.1 in ./anaconda3/lib/python3.10/site-packages (from pandas->pgmpy) (2.8.2)\n",
      "Requirement already satisfied: pytz>=2020.1 in ./anaconda3/lib/python3.10/site-packages (from pandas->pgmpy) (2022.7)\n",
      "Requirement already satisfied: threadpoolctl>=2.0.0 in ./anaconda3/lib/python3.10/site-packages (from scikit-learn->pgmpy) (2.2.0)\n",
      "Requirement already satisfied: patsy>=0.5.2 in ./anaconda3/lib/python3.10/site-packages (from statsmodels->pgmpy) (0.5.3)\n",
      "Requirement already satisfied: packaging>=21.3 in ./anaconda3/lib/python3.10/site-packages (from statsmodels->pgmpy) (22.0)\n",
      "Requirement already satisfied: filelock in ./anaconda3/lib/python3.10/site-packages (from torch->pgmpy) (3.9.0)\n",
      "Requirement already satisfied: typing-extensions in ./anaconda3/lib/python3.10/site-packages (from torch->pgmpy) (4.8.0)\n",
      "Requirement already satisfied: sympy in ./anaconda3/lib/python3.10/site-packages (from torch->pgmpy) (1.11.1)\n",
      "Requirement already satisfied: jinja2 in ./anaconda3/lib/python3.10/site-packages (from torch->pgmpy) (3.1.2)\n",
      "Requirement already satisfied: fsspec in ./anaconda3/lib/python3.10/site-packages (from torch->pgmpy) (2023.9.2)\n",
      "Requirement already satisfied: six in ./anaconda3/lib/python3.10/site-packages (from patsy>=0.5.2->statsmodels->pgmpy) (1.16.0)\n",
      "Requirement already satisfied: MarkupSafe>=2.0 in ./anaconda3/lib/python3.10/site-packages (from jinja2->torch->pgmpy) (2.1.1)\n",
      "Requirement already satisfied: mpmath>=0.19 in ./anaconda3/lib/python3.10/site-packages/mpmath-1.2.1-py3.10.egg (from sympy->torch->pgmpy) (1.2.1)\n",
      "Downloading pgmpy-0.1.24-py3-none-any.whl (2.0 MB)\n",
      "\u001b[2K   \u001b[90m━━━━━━━━━━━━━━━━━━━━━━━━━━━━━━━━━━━━━━━━\u001b[0m \u001b[32m2.0/2.0 MB\u001b[0m \u001b[31m950.1 kB/s\u001b[0m eta \u001b[36m0:00:00\u001b[0m00:01\u001b[0m00:01\u001b[0m\n",
      "\u001b[?25hInstalling collected packages: pgmpy\n",
      "Successfully installed pgmpy-0.1.24\n",
      "\n",
      "\u001b[1m[\u001b[0m\u001b[34;49mnotice\u001b[0m\u001b[1;39;49m]\u001b[0m\u001b[39;49m A new release of pip is available: \u001b[0m\u001b[31;49m23.2.1\u001b[0m\u001b[39;49m -> \u001b[0m\u001b[32;49m23.3.1\u001b[0m\n",
      "\u001b[1m[\u001b[0m\u001b[34;49mnotice\u001b[0m\u001b[1;39;49m]\u001b[0m\u001b[39;49m To update, run: \u001b[0m\u001b[32;49mpip install --upgrade pip\u001b[0m\n"
     ]
    },
    {
     "name": "stderr",
     "output_type": "stream",
     "text": [
      "/Users/anasnadaf/anaconda3/lib/python3.10/site-packages/tqdm/auto.py:22: TqdmWarning: IProgress not found. Please update jupyter and ipywidgets. See https://ipywidgets.readthedocs.io/en/stable/user_install.html\n",
      "  from .autonotebook import tqdm as notebook_tqdm\n"
     ]
    },
    {
     "name": "stdout",
     "output_type": "stream",
     "text": [
      "+-----------------+---------------------+\n",
      "| HeartDisease    |   phi(HeartDisease) |\n",
      "+=================+=====================+\n",
      "| HeartDisease(0) |              1.0000 |\n",
      "+-----------------+---------------------+\n",
      "| HeartDisease(1) |              0.0000 |\n",
      "+-----------------+---------------------+\n",
      "The patient is likely not to have Heart Disease.\n"
     ]
    }
   ],
   "source": [
    "!pip install --upgrade pgmpy\n",
    "\n",
    "import pandas as pd\n",
    "from pgmpy.models import BayesianNetwork\n",
    "from pgmpy.estimators import MaximumLikelihoodEstimator\n",
    "from pgmpy.inference import VariableElimination\n",
    "\n",
    "###################### DO NOT LOAD THIS DATA LINK DIRECTLY GO ON THIS LINK AND DOWNLOAD THE DATASET\n",
    "data = pd.read_csv('/Users/anasnadaf/Downloads/heart.csv')\n",
    "###################### DO NOT LOAD THIS DATA LINK DIRECTLY GO ON THIS LINK AND DOWNLOAD THE DATASET\n",
    "\n",
    "\n",
    "# Define the Bayesian network structure\n",
    "model = BayesianNetwork([('Age', 'HeartDisease'),\n",
    "                         ('Sex', 'HeartDisease'),\n",
    "                         ('ChestPainType', 'HeartDisease'),\n",
    "                         ('RestingBP', 'HeartDisease'),\n",
    "                         ('Cholesterol', 'HeartDisease'),\n",
    "                         ('FastingBS', 'HeartDisease'),\n",
    "                         ('RestingECG', 'HeartDisease'),\n",
    "                         ('MaxHR', 'HeartDisease'),\n",
    "                         ('ExerciseAngina', 'HeartDisease'),\n",
    "                         ('Oldpeak', 'HeartDisease'),\n",
    "                         ('ST_Slope', 'HeartDisease')])\n",
    "\n",
    "# Estimate CPDs from data\n",
    "model.fit(data, estimator=MaximumLikelihoodEstimator)\n",
    "\n",
    "# Create an inference object\n",
    "inference = VariableElimination(model)\n",
    "\n",
    "# Provide evidence for diagnosis\n",
    "evidence = {\n",
    "    'Age': 40,\n",
    "    'Sex': 'M',\n",
    "    'ChestPainType': 'ATA',\n",
    "    'RestingBP': 140,\n",
    "    'Cholesterol': 289,\n",
    "    'FastingBS': 0,\n",
    "    'RestingECG': 'Normal',\n",
    "    'MaxHR': 172,\n",
    "    'ExerciseAngina': 'N',\n",
    "    'Oldpeak': 0,\n",
    "    'ST_Slope': 'Up'\n",
    "}\n",
    "\n",
    "# Query the model for the probability of Heart Disease\n",
    "query_result = inference.query(variables=['HeartDisease'], evidence=evidence)\n",
    "print(query_result)\n",
    "\n",
    "# Diagnose the patient based on the probability\n",
    "if query_result.values[1] > query_result.values[0]:\n",
    "    print(\"The patient is likely to have Heart Disease.\")\n",
    "else:\n",
    "    print(\"The patient is likely not to have Heart Disease.\")\n"
   ]
  }
 ],
 "metadata": {
  "kernelspec": {
   "display_name": "Python 3 (ipykernel)",
   "language": "python",
   "name": "python3"
  },
  "language_info": {
   "codemirror_mode": {
    "name": "ipython",
    "version": 3
   },
   "file_extension": ".py",
   "mimetype": "text/x-python",
   "name": "python",
   "nbconvert_exporter": "python",
   "pygments_lexer": "ipython3",
   "version": "3.10.9"
  }
 },
 "nbformat": 4,
 "nbformat_minor": 5
}

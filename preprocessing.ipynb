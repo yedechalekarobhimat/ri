{
 "cells": [
  {
   "cell_type": "code",
   "execution_count": 3,
   "id": "d015f90b",
   "metadata": {},
   "outputs": [
    {
     "name": "stderr",
     "output_type": "stream",
     "text": [
      "[nltk_data] Downloading package punkt to /Users/anasnadaf/nltk_data...\n",
      "[nltk_data]   Package punkt is already up-to-date!\n"
     ]
    },
    {
     "data": {
      "text/plain": [
       "True"
      ]
     },
     "execution_count": 3,
     "metadata": {},
     "output_type": "execute_result"
    }
   ],
   "source": [
    "import nltk\n",
    "from nltk.stem import PorterStemmer\n",
    "import nltk\n",
    "nltk.download('punkt')"
   ]
  },
  {
   "cell_type": "code",
   "execution_count": 4,
   "id": "352ebb3e",
   "metadata": {},
   "outputs": [
    {
     "name": "stderr",
     "output_type": "stream",
     "text": [
      "[nltk_data] Downloading package stopwords to\n",
      "[nltk_data]     /Users/anasnadaf/nltk_data...\n",
      "[nltk_data]   Package stopwords is already up-to-date!\n"
     ]
    },
    {
     "data": {
      "text/plain": [
       "True"
      ]
     },
     "execution_count": 4,
     "metadata": {},
     "output_type": "execute_result"
    }
   ],
   "source": [
    "nltk.download('stopwords')"
   ]
  },
  {
   "cell_type": "code",
   "execution_count": 5,
   "id": "8f570d78",
   "metadata": {},
   "outputs": [
    {
     "name": "stdout",
     "output_type": "stream",
     "text": [
      "['i', 'me', 'my', 'myself', 'we', 'our', 'ours', 'ourselves', 'you', \"you're\", \"you've\", \"you'll\", \"you'd\", 'your', 'yours', 'yourself', 'yourselves', 'he', 'him', 'his', 'himself', 'she', \"she's\", 'her', 'hers', 'herself', 'it', \"it's\", 'its', 'itself', 'they', 'them', 'their', 'theirs', 'themselves', 'what', 'which', 'who', 'whom', 'this', 'that', \"that'll\", 'these', 'those', 'am', 'is', 'are', 'was', 'were', 'be', 'been', 'being', 'have', 'has', 'had', 'having', 'do', 'does', 'did', 'doing', 'a', 'an', 'the', 'and', 'but', 'if', 'or', 'because', 'as', 'until', 'while', 'of', 'at', 'by', 'for', 'with', 'about', 'against', 'between', 'into', 'through', 'during', 'before', 'after', 'above', 'below', 'to', 'from', 'up', 'down', 'in', 'out', 'on', 'off', 'over', 'under', 'again', 'further', 'then', 'once', 'here', 'there', 'when', 'where', 'why', 'how', 'all', 'any', 'both', 'each', 'few', 'more', 'most', 'other', 'some', 'such', 'no', 'nor', 'not', 'only', 'own', 'same', 'so', 'than', 'too', 'very', 's', 't', 'can', 'will', 'just', 'don', \"don't\", 'should', \"should've\", 'now', 'd', 'll', 'm', 'o', 're', 've', 'y', 'ain', 'aren', \"aren't\", 'couldn', \"couldn't\", 'didn', \"didn't\", 'doesn', \"doesn't\", 'hadn', \"hadn't\", 'hasn', \"hasn't\", 'haven', \"haven't\", 'isn', \"isn't\", 'ma', 'mightn', \"mightn't\", 'mustn', \"mustn't\", 'needn', \"needn't\", 'shan', \"shan't\", 'shouldn', \"shouldn't\", 'wasn', \"wasn't\", 'weren', \"weren't\", 'won', \"won't\", 'wouldn', \"wouldn't\"]\n"
     ]
    }
   ],
   "source": [
    "stopwords = nltk.corpus.stopwords.words('english')\n",
    "print(stopwords)"
   ]
  },
  {
   "cell_type": "code",
   "execution_count": 6,
   "id": "dc012789",
   "metadata": {},
   "outputs": [
    {
     "name": "stdout",
     "output_type": "stream",
     "text": [
      "India top team Day 1 2nd Test West Indies Trinidad , reaching 288/4 stumps . Half-centuries Rohit Sharma , Yashasvi Jaiswal Virat Kohli kept India ticking even lost four top order wickets much-improved disciplined West Indian bowling line-up . However , good , newly-formed Indian opening pair Rohit Jaiswal continued brilliant run , putting second century partnership two innings ..\n"
     ]
    }
   ],
   "source": [
    "def removestopwords(text):\n",
    "    tokens = nltk.word_tokenize(text)\n",
    "    filtered_tokens = [token for token in tokens if token not in stopwords]\n",
    "    return ' '.join(filtered_tokens)\n",
    "\n",
    "text = '''India were once again the top team on Day\n",
    "          1 of the 2nd Test against West Indies in Trinidad,\n",
    "          reaching 288/4 at stumps. Half-centuries from Rohit \n",
    "          Sharma, Yashasvi Jaiswal and Virat Kohli kept India \n",
    "          ticking even as they lost four of the top order wickets to\n",
    "          a much-improved and disciplined West Indian bowling line-up.\n",
    "          However, as good as they were, the newly-formed Indian \n",
    "          opening pair of Rohit and Jaiswal continued their brilliant  \n",
    "          run, putting up a second century partnership in two innings..'''\n",
    "processed_text = removestopwords(text)\n",
    "print(processed_text)"
   ]
  },
  {
   "cell_type": "code",
   "execution_count": 7,
   "id": "8ec499ac",
   "metadata": {},
   "outputs": [
    {
     "name": "stdout",
     "output_type": "stream",
     "text": [
      "india top team day 1 2nd test west indi trinidad , reach 288/4 stump . half-centuri rohit sharma , yashasvi jaiswal virat kohli kept india tick even lost four top order wicket much-improv disciplin west indian bowl line-up . howev , good , newly-form indian open pair rohit jaiswal continu brilliant run , put second centuri partnership two inning ..\n"
     ]
    }
   ],
   "source": [
    "def stemming(text):\n",
    "    tokens = nltk.word_tokenize(text)\n",
    "    filtered_tokens = [token for token in tokens if token not in stopwords]\n",
    "    stemmer = PorterStemmer()\n",
    "    stemmed_tokens = [stemmer.stem(token) for token in filtered_tokens]\n",
    "    return ' '.join(stemmed_tokens)\n",
    "    \n",
    "text = '''India were once again the top team on Day\n",
    "          1 of the 2nd Test against West Indies in Trinidad,\n",
    "          reaching 288/4 at stumps. Half-centuries from Rohit \n",
    "          Sharma, Yashasvi Jaiswal and Virat Kohli kept India \n",
    "          ticking even as they lost four of the top order wickets to\n",
    "          a much-improved and disciplined West Indian bowling line-up.\n",
    "          However, as good as they were, the newly-formed Indian \n",
    "          opening pair of Rohit and Jaiswal continued their brilliant \n",
    "          run, putting up a second century partnership in two innings..'''\n",
    "processed_text = removestopwords(text)\n",
    "processed_text =stemming(text)\n",
    "print(processed_text)"
   ]
  }
 ],
 "metadata": {
  "kernelspec": {
   "display_name": "Python 3 (ipykernel)",
   "language": "python",
   "name": "python3"
  },
  "language_info": {
   "codemirror_mode": {
    "name": "ipython",
    "version": 3
   },
   "file_extension": ".py",
   "mimetype": "text/x-python",
   "name": "python",
   "nbconvert_exporter": "python",
   "pygments_lexer": "ipython3",
   "version": "3.10.9"
  }
 },
 "nbformat": 4,
 "nbformat_minor": 5
}
